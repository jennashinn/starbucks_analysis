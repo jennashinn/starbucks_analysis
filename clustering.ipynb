{
 "cells": [
  {
   "cell_type": "markdown",
   "metadata": {},
   "source": [
    "## Part 3: Machine Learning with Clustering"
   ]
  },
  {
   "cell_type": "code",
   "execution_count": 1,
   "metadata": {},
   "outputs": [],
   "source": [
    "import numpy as np \n",
    "import pandas as pd\n",
    "import matplotlib.pyplot as plt\n",
    "import matplotlib.dates as mdates\n",
    "from matplotlib import rcParams\n",
    "import seaborn as sns\n",
    "\n",
    "%matplotlib inline\n",
    "\n",
    "sns.set_style(\"darkgrid\")\n",
    "#sns.set(rc={\"figure.dpi\":600, 'savefig.dpi':600})\n",
    "params = {'axes.titlesize': 18.0, \n",
    "          'axes.labelsize': 16.0, \n",
    "          'legend.fontsize': 16.0,\n",
    "          'xtick.labelsize': 12.0,        \n",
    "          'ytick.labelsize': 12.0}\n",
    "plt.rcParams.update(params)\n",
    "\n",
    "from kneed import KneeLocator\n",
    "from sklearn.datasets import make_blobs\n",
    "from sklearn.metrics import silhouette_score\n",
    "from sklearn.preprocessing import StandardScaler\n",
    "from sklearn.decomposition import PCA\n",
    "from mpl_toolkits.mplot3d import Axes3D\n",
    "\n",
    "from sklearn.cluster import KMeans\n",
    "from sklearn import metrics\n",
    "\n",
    "from sklearn.linear_model import LogisticRegression\n",
    "from sklearn.model_selection import train_test_split\n",
    "from sklearn.neighbors import KNeighborsClassifier\n",
    "\n",
    "import warnings\n",
    "warnings.filterwarnings(\"ignore\")"
   ]
  },
  {
   "cell_type": "code",
   "execution_count": 2,
   "metadata": {},
   "outputs": [],
   "source": [
    "customer = pd.read_csv('EDACustomer.csv').drop('Unnamed: 0', axis = 1)\n",
    "offer = pd.read_csv('EDAOffer.csv').drop('Unnamed: 0', axis = 1)\n",
    "transcript = pd.read_csv('EDATranscript.csv').drop('Unnamed: 0', axis = 1)"
   ]
  },
  {
   "cell_type": "markdown",
   "metadata": {},
   "source": [
    "### Customer Characteristics\n",
    "Before clustering, the customer and transcript datasets need to be combined so that the customer behaviors can be grouped."
   ]
  },
  {
   "cell_type": "code",
   "execution_count": 3,
   "metadata": {},
   "outputs": [],
   "source": [
    "# Creating an empty dataframe\n",
    "customer_behaviors = pd.DataFrame(columns = ['person', 'received', \n",
    "                                            'viewed', 'completed', 'transactions'])"
   ]
  },
  {
   "cell_type": "code",
   "execution_count": 4,
   "metadata": {},
   "outputs": [],
   "source": [
    "# The customers with NaN for income and gender were dropped from the customer \n",
    "# dataset in part 1, so the list of the ids currently in the customer dataset\n",
    "# can be used to keep only the non null ids in transcript \n",
    "not_null_ids = customer['id']\n",
    "filtered_transcript = transcript[transcript['person'].isin(not_null_ids)].reset_index(drop = True)\n",
    "\n",
    "# And then added to customer_behaviors\n",
    "customer_behaviors['person'] = filtered_transcript.value_counts('person').sort_index().index.values\n",
    "customer_behaviors.set_index('person', inplace = True)"
   ]
  },
  {
   "cell_type": "code",
   "execution_count": 5,
   "metadata": {},
   "outputs": [],
   "source": [
    "# Getting counts of each offer event by each customer \n",
    "filtered_transcript = filtered_transcript.sort_values('person')\n",
    "grouped_transcript = filtered_transcript.groupby(['person', 'event']).count()"
   ]
  },
  {
   "cell_type": "code",
   "execution_count": 6,
   "metadata": {},
   "outputs": [],
   "source": [
    "# Now filling in received, viewed, completed, and transactions \n",
    "for person_id in customer_behaviors.index.values:\n",
    "    if (person_id, 'offer received') in list(grouped_transcript.index.values):\n",
    "        customer_behaviors.loc[person_id, 'received'] = grouped_transcript.loc[(person_id, 'offer received'), 'key_id']\n",
    "    if (person_id, 'offer viewed') in list(grouped_transcript.index.values):\n",
    "        customer_behaviors.loc[person_id, 'viewed'] = grouped_transcript.loc[(person_id, 'offer viewed'), 'key_id']\n",
    "    if (person_id, 'offer completed') in list(grouped_transcript.index.values):\n",
    "        customer_behaviors.loc[person_id, 'completed'] = grouped_transcript.loc[(person_id, 'offer completed'), 'key_id']\n",
    "    if (person_id, 'transaction') in list(grouped_transcript.index.values):\n",
    "        customer_behaviors.loc[person_id, 'transactions'] = grouped_transcript.loc[(person_id, 'transaction'), 'key_id']\n",
    "    "
   ]
  },
  {
   "cell_type": "code",
   "execution_count": 7,
   "metadata": {},
   "outputs": [],
   "source": [
    "# Saving this since the above code chunk to over 4 minutes :) \n",
    "#customer_behaviors.to_csv('customer_behaviors.csv')"
   ]
  },
  {
   "cell_type": "markdown",
   "metadata": {},
   "source": [
    "Now that we have a dataset with customer behaviors, we can find out how much each customer spent with value_id"
   ]
  },
  {
   "cell_type": "code",
   "execution_count": 8,
   "metadata": {},
   "outputs": [],
   "source": [
    "x = filtered_transcript[filtered_transcript['event'] == 'transaction']\n",
    "x['value_id'] = x['value_id'].astype(float)\n",
    "\n",
    "# Calculating how much money each customer spent \n",
    "money_spent = x[x['event'] == 'transaction'].groupby('person').agg({'value_id': 'sum'})\n",
    "\n",
    "# And adding money_spent to customer_behaviors\n",
    "customer_behaviors['money_spent'] = money_spent"
   ]
  },
  {
   "cell_type": "markdown",
   "metadata": {},
   "source": [
    "### Analysis of customer_behavior"
   ]
  },
  {
   "cell_type": "code",
   "execution_count": 9,
   "metadata": {},
   "outputs": [
    {
     "data": {
      "text/plain": [
       "received           5\n",
       "viewed           150\n",
       "completed       2839\n",
       "transactions     333\n",
       "money_spent      333\n",
       "dtype: int64"
      ]
     },
     "execution_count": 9,
     "metadata": {},
     "output_type": "execute_result"
    }
   ],
   "source": [
    "customer_behaviors.isna().sum()"
   ]
  },
  {
   "cell_type": "markdown",
   "metadata": {},
   "source": [
    "From above, we can see that: \n",
    "- 5 customers did not receive an offer\n",
    "- 150 customers did not view the offer\n",
    "- 2839 customers did not complete the offer\n",
    "- 333 customers did not make any purchases nor did they spend any money\n",
    "\n",
    "We'll replace NaNs with 0s in the customer_behavior dataset."
   ]
  },
  {
   "cell_type": "code",
   "execution_count": 10,
   "metadata": {},
   "outputs": [],
   "source": [
    "# Filling NaN\n",
    "customer_behaviors.fillna(0, inplace = True)\n",
    "\n",
    "# And keeping a copy\n",
    "#customer_behavior_received = customer_behavior.copy()\n"
   ]
  },
  {
   "cell_type": "markdown",
   "metadata": {},
   "source": [
    "#### Outliers"
   ]
  },
  {
   "cell_type": "code",
   "execution_count": 11,
   "metadata": {},
   "outputs": [
    {
     "data": {
      "text/plain": [
       "count    14825.000000\n",
       "mean       117.028155\n",
       "std        129.965016\n",
       "min          0.000000\n",
       "25%         31.450000\n",
       "50%         87.040000\n",
       "75%        160.900000\n",
       "max       1608.690000\n",
       "Name: money_spent, dtype: float64"
      ]
     },
     "execution_count": 11,
     "metadata": {},
     "output_type": "execute_result"
    }
   ],
   "source": [
    "customer_behaviors['money_spent'].describe()"
   ]
  },
  {
   "cell_type": "markdown",
   "metadata": {},
   "source": [
    "The 0.75 quantile is only $160, while the maximum is $1608. This means that there are some significant outliers that are spending way more than the majoritiy of the customers. We can remove the top 2.5 % of spenders. "
   ]
  },
  {
   "cell_type": "code",
   "execution_count": 12,
   "metadata": {},
   "outputs": [
    {
     "name": "stdout",
     "output_type": "stream",
     "text": [
      "Number of rows removed: 371\n"
     ]
    }
   ],
   "source": [
    "# Removing rows with customers who's spending falls into the top 2.5%\n",
    "q = customer_behaviors['money_spent'].quantile(0.975)\n",
    "\n",
    "top_spenders_outliers = customer_behaviors[customer_behaviors['money_spent'] >= q]\n",
    "\n",
    "customers_to_keep = customer_behaviors[customer_behaviors['money_spent'] < q]\n",
    "\n",
    "print('Number of rows removed:', top_spenders_outliers.shape[0])"
   ]
  },
  {
   "cell_type": "code",
   "execution_count": 13,
   "metadata": {},
   "outputs": [],
   "source": [
    "# Keeping unaltered copy \n",
    "filtered_customers = customers_to_keep.copy()"
   ]
  },
  {
   "cell_type": "markdown",
   "metadata": {},
   "source": [
    "Before scaling the data for clustering, the received column needs to be dropped from the customer_behavior data. This is because the customer did not decided whether or not to receive the offer. Starbucks decided who to send the offers too. "
   ]
  },
  {
   "cell_type": "code",
   "execution_count": 14,
   "metadata": {},
   "outputs": [
    {
     "data": {
      "text/html": [
       "<div>\n",
       "<style scoped>\n",
       "    .dataframe tbody tr th:only-of-type {\n",
       "        vertical-align: middle;\n",
       "    }\n",
       "\n",
       "    .dataframe tbody tr th {\n",
       "        vertical-align: top;\n",
       "    }\n",
       "\n",
       "    .dataframe thead th {\n",
       "        text-align: right;\n",
       "    }\n",
       "</style>\n",
       "<table border=\"1\" class=\"dataframe\">\n",
       "  <thead>\n",
       "    <tr style=\"text-align: right;\">\n",
       "      <th></th>\n",
       "      <th>viewed</th>\n",
       "      <th>completed</th>\n",
       "      <th>transactions</th>\n",
       "      <th>money_spent</th>\n",
       "    </tr>\n",
       "    <tr>\n",
       "      <th>person</th>\n",
       "      <th></th>\n",
       "      <th></th>\n",
       "      <th></th>\n",
       "      <th></th>\n",
       "    </tr>\n",
       "  </thead>\n",
       "  <tbody>\n",
       "    <tr>\n",
       "      <th>0009655768c64bdeb2e877511632db8f</th>\n",
       "      <td>4</td>\n",
       "      <td>3</td>\n",
       "      <td>8</td>\n",
       "      <td>127.60</td>\n",
       "    </tr>\n",
       "    <tr>\n",
       "      <th>0011e0d4e6b944f998e987f904e8c1e5</th>\n",
       "      <td>5</td>\n",
       "      <td>3</td>\n",
       "      <td>5</td>\n",
       "      <td>79.46</td>\n",
       "    </tr>\n",
       "    <tr>\n",
       "      <th>0020c2b971eb4e9188eac86d93036a77</th>\n",
       "      <td>3</td>\n",
       "      <td>3</td>\n",
       "      <td>8</td>\n",
       "      <td>196.86</td>\n",
       "    </tr>\n",
       "    <tr>\n",
       "      <th>0020ccbbb6d84e358d3414a3ff76cffd</th>\n",
       "      <td>4</td>\n",
       "      <td>3</td>\n",
       "      <td>12</td>\n",
       "      <td>154.05</td>\n",
       "    </tr>\n",
       "    <tr>\n",
       "      <th>003d66b6608740288d6cc97a6903f4f0</th>\n",
       "      <td>4</td>\n",
       "      <td>3</td>\n",
       "      <td>18</td>\n",
       "      <td>48.34</td>\n",
       "    </tr>\n",
       "  </tbody>\n",
       "</table>\n",
       "</div>"
      ],
      "text/plain": [
       "                                  viewed  completed  transactions  money_spent\n",
       "person                                                                        \n",
       "0009655768c64bdeb2e877511632db8f       4          3             8       127.60\n",
       "0011e0d4e6b944f998e987f904e8c1e5       5          3             5        79.46\n",
       "0020c2b971eb4e9188eac86d93036a77       3          3             8       196.86\n",
       "0020ccbbb6d84e358d3414a3ff76cffd       4          3            12       154.05\n",
       "003d66b6608740288d6cc97a6903f4f0       4          3            18        48.34"
      ]
     },
     "execution_count": 14,
     "metadata": {},
     "output_type": "execute_result"
    }
   ],
   "source": [
    "clean_customers = filtered_customers.drop('received', axis = 1)\n",
    "clean_customers.head(5)"
   ]
  },
  {
   "cell_type": "markdown",
   "metadata": {},
   "source": [
    "#### Scaling"
   ]
  },
  {
   "cell_type": "code",
   "execution_count": 15,
   "metadata": {},
   "outputs": [],
   "source": [
    "sc = StandardScaler().fit(clean_customers)\n",
    "scaled = sc.transform(clean_customers)\n",
    "scaled_features = pd.DataFrame(data = scaled, \n",
    "                               columns = clean_customers.columns.values)"
   ]
  },
  {
   "cell_type": "markdown",
   "metadata": {},
   "source": [
    "****\n",
    "## Clustering \n",
    "Yay! Finally to the machine learning. <br>\n",
    "\n",
    "**Before** we can actually create the clusters, we're going to find the ideal amount of clusters (k)."
   ]
  },
  {
   "cell_type": "code",
   "execution_count": 19,
   "metadata": {},
   "outputs": [],
   "source": [
    "df_features = scaled_features\n",
    "wcss = []\n",
    "sil_score = []\n",
    "max_clusters = 10\n",
    "\n",
    "for k in range(1, max_clusters):\n",
    "    kmeans = KMeans(n_clusters = k, random_state = 10)\n",
    "    kmeans.fit(df_features)\n",
    "    # calculate wcss for the Elbow Method \n",
    "    # and converting the data to a dataframe for plotting\n",
    "    wcss.append(kmeans.inertia_)\n",
    "    \n",
    "    # calculate the mean Silhouette coefficient\n",
    "    if k >= 2:\n",
    "        labels = kmeans.labels_\n",
    "        # and converting the data to a dataframe for plotting\n",
    "        sil_score.append(metrics.silhouette_score(df_features, labels))"
   ]
  },
  {
   "cell_type": "code",
   "execution_count": 21,
   "metadata": {},
   "outputs": [
    {
     "data": {
      "image/png": "[encoded data removed]",
      "text/plain": [
       "<Figure size 720x360 with 1 Axes>"
      ]
     },
     "metadata": {},
     "output_type": "display_data"
    }
   ],
   "source": [
    "## Elbow\n",
    "fig, ax = plt.subplots(figsize=(10,5))\n",
    "ax.plot(np.arange(1, max_clusters), wcss, marker = 'o', lw = 2, color = 'purple')\n",
    "ax.set_xlabel('Number of Clusters')\n",
    "ax.set_ylabel('WCSS')\n",
    "ax.set_title('The Elbow Method')\n",
    "\n",
    "plt.tight_layout()\n",
    "plt.show()\n"
   ]
  },
  {
   "cell_type": "code",
   "execution_count": 22,
   "metadata": {},
   "outputs": [
    {
     "data": {
      "image/png": "[encoded data removed]",
      "text/plain": [
       "<Figure size 720x360 with 1 Axes>"
      ]
     },
     "metadata": {},
     "output_type": "display_data"
    }
   ],
   "source": [
    "## Silhouette \n",
    "fig, ax = plt.subplots(figsize=(10,5))\n",
    "ax.plot(np.arange(2, max_clusters), sil_score, marker = 'o' , lw = 2, color = 'purple')\n",
    "ax.set_xlabel('Number of Clusters')\n",
    "ax.set_ylabel('Mean Silhouette Coefficient')\n",
    "ax.set_title('The Silhouette Method')\n",
    "plt.tight_layout()\n",
    "plt.show()"
   ]
  },
  {
   "cell_type": "markdown",
   "metadata": {},
   "source": [
    "5 appears to be the ideal number of clusters (k)"
   ]
  },
  {
   "cell_type": "markdown",
   "metadata": {},
   "source": [
    "**Now KMeans clustering can be done!**"
   ]
  },
  {
   "cell_type": "code",
   "execution_count": 23,
   "metadata": {},
   "outputs": [
    {
     "name": "stdout",
     "output_type": "stream",
     "text": [
      "cluster\n",
      "0    1574\n",
      "1    3337\n",
      "2    4000\n",
      "3    2921\n",
      "4    2622\n",
      "dtype: int64\n",
      "Silhouette Score: 0.27614911424041494\n",
      "        viewed completed transactions money_spent\n",
      "          mean      mean         mean        mean\n",
      "cluster                                          \n",
      "0          3.5       2.0         17.1        71.1\n",
      "1          2.8       2.9          7.7       139.0\n",
      "2          2.1       0.7          5.0        34.3\n",
      "3          4.4       4.1         12.1       216.6\n",
      "4          4.5       1.4          4.5        49.6\n"
     ]
    }
   ],
   "source": [
    "k = 5\n",
    "df_feature = scaled\n",
    "\n",
    "kmeans = KMeans(n_clusters = k, random_state = 10)\n",
    "kmeans.fit_transform(df_feature)\n",
    "customer_with_clusters = clean_customers.assign(cluster = kmeans.labels_)\n",
    "print(customer_with_clusters.value_counts('cluster').sort_index())\n",
    "\n",
    "print('Silhouette Score:', metrics.silhouette_score(df_feature, labels = kmeans.labels_))\n",
    "cluster_info = customer_with_clusters.groupby('cluster').agg([np.mean])\n",
    "print(cluster_info.round(1))\n"
   ]
  },
  {
   "cell_type": "markdown",
   "metadata": {},
   "source": [
    "Above we can see how many customers belong to each cluster and the mean of each customer behavior by cluster grouping. The Silhouette score is 0.28. The Silhouette score ranges from -1 to 1 so 0.28 isn't bad, but could be better. \n",
    "\n",
    "#### Updating the model with PCA\n",
    "PCA is a technique that helps us reduce the dimension of a dataset. When we run PCA on a data frame, new components are created. These components explain the maximum variance in the model."
   ]
  },
  {
   "cell_type": "code",
   "execution_count": 24,
   "metadata": {},
   "outputs": [
    {
     "data": {
      "image/png": "[encoded data removed]",
      "text/plain": [
       "<Figure size 432x288 with 1 Axes>"
      ]
     },
     "metadata": {},
     "output_type": "display_data"
    }
   ],
   "source": [
    "pca = PCA(n_components=4)\n",
    "principalComponents = pca.fit_transform(df_feature)\n",
    "\n",
    "features = range(pca.n_components_)\n",
    "plt.bar(features, pca.explained_variance_ratio_)\n",
    "plt.xlabel('PCA features')\n",
    "plt.ylabel('variance %')\n",
    "plt.xticks(features)\n",
    "\n",
    "PCA_components = pd.DataFrame(principalComponents)"
   ]
  },
  {
   "cell_type": "code",
   "execution_count": 25,
   "metadata": {},
   "outputs": [
    {
     "data": {
      "text/plain": [
       "array([0.5641604 , 0.20955881, 0.15730168, 0.0689791 ])"
      ]
     },
     "execution_count": 25,
     "metadata": {},
     "output_type": "execute_result"
    }
   ],
   "source": [
    "pca.explained_variance_ratio_"
   ]
  },
  {
   "cell_type": "markdown",
   "metadata": {},
   "source": [
    "Here, we can see that the first two features (0 and 1) account for a total of 77% of all of the variance. <br>\n",
    "Now, we can try the model again with the first two principal components, and see if the ideal number of clusters changes. "
   ]
  },
  {
   "cell_type": "code",
   "execution_count": 26,
   "metadata": {},
   "outputs": [
    {
     "data": {
      "image/png": "[encoded data removed]",
      "text/plain": [
       "<Figure size 432x288 with 1 Axes>"
      ]
     },
     "metadata": {},
     "output_type": "display_data"
    }
   ],
   "source": [
    "ks = range(1, 10)\n",
    "inertias = []\n",
    "\n",
    "for k in ks:\n",
    "    model = KMeans(n_clusters=k)\n",
    "    model.fit(PCA_components.iloc[:,:1])\n",
    "    inertias.append(model.inertia_)\n",
    "\n",
    "plt.plot(ks, inertias, '-o')\n",
    "plt.xlabel('number of clusters, k')\n",
    "plt.ylabel('inertia')\n",
    "plt.xticks(ks)\n",
    "plt.show()"
   ]
  },
  {
   "cell_type": "markdown",
   "metadata": {},
   "source": [
    "**k=5** still looks like the ideal number. Updating the Silhouette score with the first two PCA components"
   ]
  },
  {
   "cell_type": "code",
   "execution_count": 28,
   "metadata": {},
   "outputs": [
    {
     "name": "stdout",
     "output_type": "stream",
     "text": [
      "0.542211004221926\n"
     ]
    }
   ],
   "source": [
    "model = KMeans(n_clusters=4)\n",
    "model.fit(PCA_components.iloc[:,:1])\n",
    "\n",
    "# silhouette score\n",
    "print(silhouette_score(PCA_components.iloc[:,:1], model.labels_, metric='euclidean'))"
   ]
  },
  {
   "cell_type": "markdown",
   "metadata": {},
   "source": [
    "**0.54** is better than 0.28. <br>\n",
    "To further test this, we can run a quick regression model to ensure the accruarcy. "
   ]
  },
  {
   "cell_type": "code",
   "execution_count": 29,
   "metadata": {},
   "outputs": [],
   "source": [
    "# Split data for train and test\n",
    "X = scaled\n",
    "Y = customer_with_clusters['cluster']\n",
    "x_train, x_test, y_train, y_test = train_test_split(X, Y, test_size = 0.2, random_state = 10)"
   ]
  },
  {
   "cell_type": "code",
   "execution_count": 30,
   "metadata": {},
   "outputs": [
    {
     "name": "stdout",
     "output_type": "stream",
     "text": [
      "Test accuracy: 99.38 %\n"
     ]
    }
   ],
   "source": [
    "# Multiclass logistic regression\n",
    "clf = LogisticRegression()\n",
    "clf.fit(x_train, y_train)\n",
    "\n",
    "# Check test accurracy\n",
    "y_predict = clf.predict(x_test)\n",
    "acc_score = metrics.accuracy_score(y_test, y_predict) * 100\n",
    "print(\"Test accuracy:\", acc_score.round(2), \"%\")"
   ]
  },
  {
   "cell_type": "code",
   "execution_count": 31,
   "metadata": {},
   "outputs": [
    {
     "name": "stdout",
     "output_type": "stream",
     "text": [
      "Test accuracy: 98.24 %\n"
     ]
    }
   ],
   "source": [
    "# K-Nearest Neighbors Classificaiton\n",
    "knn = KNeighborsClassifier(n_neighbors = 4)\n",
    "knn.fit(x_train, y_train)\n",
    "\n",
    "# Check test accuracy\n",
    "y_predict = knn.predict(x_test)\n",
    "acc_score = metrics.accuracy_score(y_test, y_predict) * 100\n",
    "print(\"Test accuracy:\", acc_score.round(2), \"%\")"
   ]
  },
  {
   "cell_type": "markdown",
   "metadata": {},
   "source": [
    "****\n",
    "### Initial Cluster Analysis"
   ]
  },
  {
   "cell_type": "code",
   "execution_count": 35,
   "metadata": {},
   "outputs": [
    {
     "name": "stdout",
     "output_type": "stream",
     "text": [
      "[3 0 1 4 2]\n"
     ]
    }
   ],
   "source": [
    "# Calculating the relative performace of cluster's attribute values compared to all customers as a population\n",
    "cluster_mean = customer_with_clusters.groupby('cluster').mean()\n",
    "population_mean = customer_with_clusters.mean()\n",
    "relative_importance = (cluster_mean / population_mean[0 :-1]) - 1\n",
    "\n",
    "# Reordering to see the importance of each cluster\n",
    "importance_ranking = relative_importance.sum(axis = 1).sort_values(ascending = False).index.values\n",
    "relative_importance = relative_importance.reindex(importance_ranking)\n",
    "\n",
    "print(importance_ranking)"
   ]
  },
  {
   "cell_type": "markdown",
   "metadata": {},
   "source": [
    "According to the importance rankings, cluster 3 is considered the most important, followed by cluster 0, cluster 1, and cluster 4. Cluster 2 is the least important. <br>\n",
    "<br>\n",
    "Now, the clusters can be addeed to the customer_behavior dataframe so we can begin the analysis."
   ]
  },
  {
   "cell_type": "code",
   "execution_count": 36,
   "metadata": {},
   "outputs": [],
   "source": [
    "# Merging the cluster dataframe with the customer beahvior \n",
    "# dataframe for customer analysis\n",
    "new = pd.merge(customer_with_clusters, filtered_customers['received'], \n",
    "               left_index = True, right_index = True)\n",
    "\n",
    "# Getting the means for each cluster for easy analysis\n",
    "cluster_df = new.groupby('cluster').mean().round(2)\n",
    "\n",
    "# Reordering based on importance_ranking\n",
    "cluster_metrics = cluster_df.reindex(importance_ranking)"
   ]
  },
  {
   "cell_type": "markdown",
   "metadata": {},
   "source": [
    "#### **Metrics for each Cluster**\n",
    "To better understand each cluster of customers, we can created a few metrics:\n",
    "##### Offer Metrics \n",
    "- **Offer Completion Rate (comp_rate)** - The number of offers completed compared to the total number of offers received. Does just receiving an offer have any effect of a customer making a purchase?\n",
    "- **Offer Viewing Rate (view_rate)** - The number of completed offers compared to the number of offers viewed. Does a customer actually looking at the offer lead to a purchase?\n",
    "- **Offer Effectiveness (effectiveness)** - The number of offers used to make a purchase. (offers completed/transactions)\n",
    "  \n",
    "##### Transactional Metrics \n",
    "- **Frequency (freq)** - How often the customer made a transaction (purchase) during the offer campaign, both with or without an offer. This is the same as the number of transactions.\n",
    "- **Average Purchase Value (apv)** - Average money spent per transaction"
   ]
  },
  {
   "cell_type": "code",
   "execution_count": 37,
   "metadata": {},
   "outputs": [],
   "source": [
    "# Offer metrics\n",
    "cluster_metrics['comp_rate'] = (cluster_df['completed'] / cluster_df['received']).round(2)\n",
    "cluster_metrics['view_rate'] = (cluster_df['completed'] / cluster_df['viewed']).round(2)\n",
    "cluster_metrics['effectiveness'] = (cluster_df['completed'] / cluster_df['transactions']).round(2)"
   ]
  },
  {
   "cell_type": "code",
   "execution_count": 38,
   "metadata": {},
   "outputs": [],
   "source": [
    "# Transactional metrics\n",
    "cluster_metrics['freq'] = cluster_df['transactions']\n",
    "cluster_metrics['apv'] = (cluster_df['money_spent'] / cluster_df['transactions']).round(2)"
   ]
  },
  {
   "cell_type": "code",
   "execution_count": 39,
   "metadata": {},
   "outputs": [
    {
     "data": {
      "text/html": [
       "<div>\n",
       "<style scoped>\n",
       "    .dataframe tbody tr th:only-of-type {\n",
       "        vertical-align: middle;\n",
       "    }\n",
       "\n",
       "    .dataframe tbody tr th {\n",
       "        vertical-align: top;\n",
       "    }\n",
       "\n",
       "    .dataframe thead th {\n",
       "        text-align: right;\n",
       "    }\n",
       "</style>\n",
       "<table border=\"1\" class=\"dataframe\">\n",
       "  <thead>\n",
       "    <tr style=\"text-align: right;\">\n",
       "      <th></th>\n",
       "      <th>viewed</th>\n",
       "      <th>completed</th>\n",
       "      <th>transactions</th>\n",
       "      <th>money_spent</th>\n",
       "      <th>received</th>\n",
       "      <th>comp_rate</th>\n",
       "      <th>view_rate</th>\n",
       "      <th>effectiveness</th>\n",
       "      <th>freq</th>\n",
       "      <th>apv</th>\n",
       "    </tr>\n",
       "    <tr>\n",
       "      <th>cluster</th>\n",
       "      <th></th>\n",
       "      <th></th>\n",
       "      <th></th>\n",
       "      <th></th>\n",
       "      <th></th>\n",
       "      <th></th>\n",
       "      <th></th>\n",
       "      <th></th>\n",
       "      <th></th>\n",
       "      <th></th>\n",
       "    </tr>\n",
       "  </thead>\n",
       "  <tbody>\n",
       "    <tr>\n",
       "      <th>3</th>\n",
       "      <td>4.43</td>\n",
       "      <td>4.08</td>\n",
       "      <td>12.08</td>\n",
       "      <td>216.58</td>\n",
       "      <td>5.08</td>\n",
       "      <td>0.80</td>\n",
       "      <td>0.92</td>\n",
       "      <td>0.34</td>\n",
       "      <td>12.08</td>\n",
       "      <td>17.93</td>\n",
       "    </tr>\n",
       "    <tr>\n",
       "      <th>0</th>\n",
       "      <td>3.51</td>\n",
       "      <td>2.02</td>\n",
       "      <td>17.09</td>\n",
       "      <td>71.06</td>\n",
       "      <td>4.67</td>\n",
       "      <td>0.43</td>\n",
       "      <td>0.58</td>\n",
       "      <td>0.12</td>\n",
       "      <td>17.09</td>\n",
       "      <td>4.16</td>\n",
       "    </tr>\n",
       "    <tr>\n",
       "      <th>1</th>\n",
       "      <td>2.83</td>\n",
       "      <td>2.87</td>\n",
       "      <td>7.68</td>\n",
       "      <td>138.97</td>\n",
       "      <td>4.14</td>\n",
       "      <td>0.69</td>\n",
       "      <td>1.01</td>\n",
       "      <td>0.37</td>\n",
       "      <td>7.68</td>\n",
       "      <td>18.10</td>\n",
       "    </tr>\n",
       "    <tr>\n",
       "      <th>4</th>\n",
       "      <td>4.54</td>\n",
       "      <td>1.45</td>\n",
       "      <td>4.51</td>\n",
       "      <td>49.62</td>\n",
       "      <td>5.03</td>\n",
       "      <td>0.29</td>\n",
       "      <td>0.32</td>\n",
       "      <td>0.32</td>\n",
       "      <td>4.51</td>\n",
       "      <td>11.00</td>\n",
       "    </tr>\n",
       "    <tr>\n",
       "      <th>2</th>\n",
       "      <td>2.14</td>\n",
       "      <td>0.67</td>\n",
       "      <td>4.99</td>\n",
       "      <td>34.25</td>\n",
       "      <td>3.88</td>\n",
       "      <td>0.17</td>\n",
       "      <td>0.31</td>\n",
       "      <td>0.13</td>\n",
       "      <td>4.99</td>\n",
       "      <td>6.86</td>\n",
       "    </tr>\n",
       "  </tbody>\n",
       "</table>\n",
       "</div>"
      ],
      "text/plain": [
       "         viewed  completed  transactions  money_spent  received  comp_rate  \\\n",
       "cluster                                                                      \n",
       "3          4.43       4.08         12.08       216.58      5.08       0.80   \n",
       "0          3.51       2.02         17.09        71.06      4.67       0.43   \n",
       "1          2.83       2.87          7.68       138.97      4.14       0.69   \n",
       "4          4.54       1.45          4.51        49.62      5.03       0.29   \n",
       "2          2.14       0.67          4.99        34.25      3.88       0.17   \n",
       "\n",
       "         view_rate  effectiveness   freq    apv  \n",
       "cluster                                          \n",
       "3             0.92           0.34  12.08  17.93  \n",
       "0             0.58           0.12  17.09   4.16  \n",
       "1             1.01           0.37   7.68  18.10  \n",
       "4             0.32           0.32   4.51  11.00  \n",
       "2             0.31           0.13   4.99   6.86  "
      ]
     },
     "execution_count": 39,
     "metadata": {},
     "output_type": "execute_result"
    }
   ],
   "source": [
    "# Redorder index by importance ranking\n",
    "cluster_summary = cluster_metrics.reindex(importance_ranking)\n",
    "cluster_summary"
   ]
  },
  {
   "cell_type": "markdown",
   "metadata": {},
   "source": [
    "### Analysis of the Clusters\n",
    "\n",
    "As previously mentioned, cluster 3 is considered the most important, followed by cluster 0, cluster 1, and cluster 4. Cluster 2 is the least important.\n",
    "\n",
    "**Cluster 3 - The MVP of Customers**\n",
    "-  These customers have an offer completion rate of 80%. Of the offers viewed by this group, 92% of them were completed. However, their offer effectiveness rate is about 34%. This suggests that while they do use most of the offers they receive, they will still make transactions (purchases) without them. \n",
    "- This cluster makes a purchase about every 12 days each month, which is every 2 or 3 days. \n",
    "- They spend an average of almost $18 per purchase. \n",
    "\n",
    "**Cluster 0 - The Regulars**\n",
    "- These customers have an offer completion rate of 43% and an offer effieciency rate is 12%. They only use 58% of the offers they view. This cluster uses about half of the offers they receive, and continue 88% of their purchases without any offers. This means that this group will make purchases with or without an offer.\n",
    "- This cluster makes a purchase around 17 days each month, which is every 1 to 2 days. \n",
    "- Interestingly, they only spend about $ 4.16 on each purchase. This purchase is most likely a single \"routine\" drink.\n",
    "\n",
    "**Cluster 1 - The Casual Customer**\n",
    "- These customers have an offer completion rate of 69% with an offer effiencey rate of 37%. This suggests that while they are highly responsive to offers, they will still make transactions (purchases) without them. \n",
    "- What's interesting is that of the 37% that receive and complete the offers, the offer view rate over 100%. This suggests that they will blindly use an offer. For those customers in this cluster that actually use the offers, while in line to place an order, they will most likely quickly scan to see if they have received an offer. If they have, they will blindly use it without actually viewing the offer itself. \n",
    "- These customers make a purchase 7.68 days each month, or a little more than once a week. When they do make a purchase, they spend, on average, the most out of all of the clusters - $18.10\n",
    "\n",
    "**Cluster 4 - The Viewers**\n",
    "- These cluster of customers views the most offers (4.54) out of all of the cluster groupings, but only uses them on 29% of purchases. \n",
    "- They only make a purchase on 4.5 days each month, or about once a week. This is the lowest of any group. However, when these customers do make a purchase, they spend on average $ 11.00. \n",
    "- In short, this group makes the least amount of transactions, regardless of offers, but they spend the third most of any group. \n",
    "\n",
    "**Cluster 2 - The Least Likely Customer**\n",
    "- This group has the lowest completion rate, viewing rate, and offer effectiveness. \n",
    "- They come in about once a week and spend around $ 6.86 on a purchase. \n",
    "- Future offers are not likely to effect this group.\n",
    "****\n"
   ]
  }
 ],
 "metadata": {
  "kernelspec": {
   "display_name": "Python 3.8.8 ('base')",
   "language": "python",
   "name": "python3"
  },
  "language_info": {
   "codemirror_mode": {
    "name": "ipython",
    "version": 3
   },
   "file_extension": ".py",
   "mimetype": "text/x-python",
   "name": "python",
   "nbconvert_exporter": "python",
   "pygments_lexer": "ipython3",
   "version": "3.8.8"
  },
  "orig_nbformat": 4,
  "vscode": {
   "interpreter": {
    "hash": "40d3a090f54c6569ab1632332b64b2c03c39dcf918b08424e98f38b5ae0af88f"
   }
  }
 },
 "nbformat": 4,
 "nbformat_minor": 2
}
