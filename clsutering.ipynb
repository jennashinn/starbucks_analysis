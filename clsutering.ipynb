{
 "cells": [
  {
   "cell_type": "markdown",
   "metadata": {},
   "source": [
    "## Part 3: Machine Learning with Clustering"
   ]
  },
  {
   "cell_type": "code",
   "execution_count": 30,
   "metadata": {},
   "outputs": [],
   "source": [
    "import numpy as np \n",
    "import pandas as pd\n",
    "import matplotlib.pyplot as plt\n",
    "import matplotlib.dates as mdates\n",
    "from matplotlib import rcParams\n",
    "import seaborn as sns\n",
    "\n",
    "%matplotlib inline\n",
    "\n",
    "sns.set_style(\"darkgrid\")\n",
    "#sns.set(rc={\"figure.dpi\":600, 'savefig.dpi':600})\n",
    "params = {'axes.titlesize': 18.0, \n",
    "          'axes.labelsize': 16.0, \n",
    "          'legend.fontsize': 16.0,\n",
    "          'xtick.labelsize': 12.0,        \n",
    "          'ytick.labelsize': 12.0}\n",
    "plt.rcParams.update(params)\n",
    "\n",
    "from kneed import KneeLocator\n",
    "from sklearn.datasets import make_blobs\n",
    "from sklearn.metrics import silhouette_score\n",
    "from sklearn.preprocessing import StandardScaler\n",
    "from sklearn.decomposition import PCA\n",
    "from mpl_toolkits.mplot3d import Axes3D\n",
    "\n",
    "from sklearn.cluster import KMeans\n",
    "from sklearn import metrics\n",
    "\n",
    "from sklearn.linear_model import LogisticRegression\n",
    "from sklearn.model_selection import train_test_split\n",
    "from sklearn.neighbors import KNeighborsClassifier\n",
    "\n",
    "import warnings\n",
    "warnings.filterwarnings(\"ignore\")"
   ]
  },
  {
   "cell_type": "code",
   "execution_count": 2,
   "metadata": {},
   "outputs": [],
   "source": [
    "customer = pd.read_csv('EDACustomer.csv').drop('Unnamed: 0', axis = 1)\n",
    "offer = pd.read_csv('EDAOffer.csv').drop('Unnamed: 0', axis = 1)\n",
    "transcript = pd.read_csv('EDATranscript.csv').drop('Unnamed: 0', axis = 1)"
   ]
  },
  {
   "cell_type": "markdown",
   "metadata": {},
   "source": [
    "### Customer Characteristics\n",
    "Before clustering, the customer and transcript datasets need to be combined so that the customer behaviors can be grouped."
   ]
  },
  {
   "cell_type": "code",
   "execution_count": 3,
   "metadata": {},
   "outputs": [],
   "source": [
    "# Creating an empty dataframe\n",
    "customer_behaviors = pd.DataFrame(columns = ['person', 'received', \n",
    "                                            'viewed', 'completed', 'transactions'])"
   ]
  },
  {
   "cell_type": "code",
   "execution_count": 4,
   "metadata": {},
   "outputs": [],
   "source": [
    "# The customers with NaN for income and gender were dropped from the customer \n",
    "# dataset in part 1, so the list of the ids currently in the customer dataset\n",
    "# can be used to keep only the non null ids in transcript \n",
    "not_null_ids = customer['id']\n",
    "filtered_transcript = transcript[transcript['person'].isin(not_null_ids)].reset_index(drop = True)\n",
    "\n",
    "# And then added to customer_behaviors\n",
    "customer_behaviors['person'] = filtered_transcript.value_counts('person').sort_index().index.values\n",
    "customer_behaviors.set_index('person', inplace = True)"
   ]
  },
  {
   "cell_type": "code",
   "execution_count": 5,
   "metadata": {},
   "outputs": [],
   "source": [
    "# Getting counts of each offer event by each customer \n",
    "filtered_transcript = filtered_transcript.sort_values('person')\n",
    "grouped_transcript = filtered_transcript.groupby(['person', 'event']).count()"
   ]
  },
  {
   "cell_type": "code",
   "execution_count": 6,
   "metadata": {},
   "outputs": [],
   "source": [
    "# Now filling in received, viewed, completed, and transactions \n",
    "for person_id in customer_behaviors.index.values:\n",
    "    if (person_id, 'offer received') in list(grouped_transcript.index.values):\n",
    "        customer_behaviors.loc[person_id, 'received'] = grouped_transcript.loc[(person_id, 'offer received'), 'key_id']\n",
    "    if (person_id, 'offer viewed') in list(grouped_transcript.index.values):\n",
    "        customer_behaviors.loc[person_id, 'viewed'] = grouped_transcript.loc[(person_id, 'offer viewed'), 'key_id']\n",
    "    if (person_id, 'offer completed') in list(grouped_transcript.index.values):\n",
    "        customer_behaviors.loc[person_id, 'completed'] = grouped_transcript.loc[(person_id, 'offer completed'), 'key_id']\n",
    "    if (person_id, 'transaction') in list(grouped_transcript.index.values):\n",
    "        customer_behaviors.loc[person_id, 'transactions'] = grouped_transcript.loc[(person_id, 'transaction'), 'key_id']\n",
    "    "
   ]
  },
  {
   "cell_type": "code",
   "execution_count": 10,
   "metadata": {},
   "outputs": [],
   "source": [
    "# Saving this since the above code chunk to over 4 minutes :) \n",
    "#customer_behaviors.to_csv('customer_behaviors.csv')"
   ]
  },
  {
   "cell_type": "markdown",
   "metadata": {},
   "source": [
    "Now that we have a dataset with customer behaviors, we can find out how much each customer spent with value_id"
   ]
  },
  {
   "cell_type": "code",
   "execution_count": 12,
   "metadata": {},
   "outputs": [],
   "source": [
    "x = filtered_transcript[filtered_transcript['event'] == 'transaction']\n",
    "x['value_id'] = x['value_id'].astype(float)\n",
    "\n",
    "# Calculating how much money each customer spent \n",
    "money_spent = x[x['event'] == 'transaction'].groupby('person').agg({'value_id': 'sum'})\n",
    "\n",
    "# And adding money_spent to customer_behaviors\n",
    "customer_behaviors['money_spent'] = money_spent"
   ]
  },
  {
   "cell_type": "markdown",
   "metadata": {},
   "source": [
    "### Analysis of customer_behavior"
   ]
  },
  {
   "cell_type": "code",
   "execution_count": 13,
   "metadata": {},
   "outputs": [
    {
     "data": {
      "text/plain": [
       "received           5\n",
       "viewed           150\n",
       "completed       2839\n",
       "transactions     333\n",
       "money_spent      333\n",
       "dtype: int64"
      ]
     },
     "execution_count": 13,
     "metadata": {},
     "output_type": "execute_result"
    }
   ],
   "source": [
    "customer_behaviors.isna().sum()"
   ]
  },
  {
   "cell_type": "markdown",
   "metadata": {},
   "source": [
    "From above, we can see that: \n",
    "- 5 customers did not receive an offer\n",
    "- 150 customers did not view the offer\n",
    "- 2839 customers did not complete the offer\n",
    "- 333 customers did not make any purchases nor did they spend any money\n",
    "\n",
    "We'll replace NaNs with 0s in the customer_behavior dataset."
   ]
  },
  {
   "cell_type": "code",
   "execution_count": 14,
   "metadata": {},
   "outputs": [],
   "source": [
    "# Filling NaN\n",
    "customer_behaviors.fillna(0, inplace = True)\n",
    "\n",
    "# And keeping a copy\n",
    "#customer_behavior_received = customer_behavior.copy()\n"
   ]
  },
  {
   "cell_type": "markdown",
   "metadata": {},
   "source": [
    "#### Outliers"
   ]
  },
  {
   "cell_type": "code",
   "execution_count": 15,
   "metadata": {},
   "outputs": [
    {
     "data": {
      "text/plain": [
       "count    14825.000000\n",
       "mean       117.028155\n",
       "std        129.965016\n",
       "min          0.000000\n",
       "25%         31.450000\n",
       "50%         87.040000\n",
       "75%        160.900000\n",
       "max       1608.690000\n",
       "Name: money_spent, dtype: float64"
      ]
     },
     "execution_count": 15,
     "metadata": {},
     "output_type": "execute_result"
    }
   ],
   "source": [
    "customer_behaviors['money_spent'].describe()"
   ]
  },
  {
   "cell_type": "markdown",
   "metadata": {},
   "source": [
    "The 0.75 quantile is only $160, while the maximum is $1608. The top 2.5 % can be removed. "
   ]
  },
  {
   "cell_type": "code",
   "execution_count": 16,
   "metadata": {},
   "outputs": [
    {
     "name": "stdout",
     "output_type": "stream",
     "text": [
      "Number of rows removed: 371\n"
     ]
    }
   ],
   "source": [
    "# Removing rows with customers who's spending falls into the top 2.5%\n",
    "q = customer_behaviors['money_spent'].quantile(0.975)\n",
    "\n",
    "top_spenders_outliers = customer_behaviors[customer_behaviors['money_spent'] >= q]\n",
    "\n",
    "customers_to_keep = customer_behaviors[customer_behaviors['money_spent'] < q]\n",
    "\n",
    "print('Number of rows removed:', top_spenders_outliers.shape[0])"
   ]
  },
  {
   "cell_type": "code",
   "execution_count": 22,
   "metadata": {},
   "outputs": [],
   "source": [
    "# Keeping unaltered copy \n",
    "filtered_customers = customers_to_keep.copy()"
   ]
  },
  {
   "cell_type": "markdown",
   "metadata": {},
   "source": [
    "Before scaling the data for clustering, the received column needs to be dropped from the customer_behavior data. This is because the customer did not decided whether or not to receive the offer. Starbucks decided who to send the offers too. "
   ]
  },
  {
   "cell_type": "code",
   "execution_count": 23,
   "metadata": {},
   "outputs": [
    {
     "data": {
      "text/html": [
       "<div>\n",
       "<style scoped>\n",
       "    .dataframe tbody tr th:only-of-type {\n",
       "        vertical-align: middle;\n",
       "    }\n",
       "\n",
       "    .dataframe tbody tr th {\n",
       "        vertical-align: top;\n",
       "    }\n",
       "\n",
       "    .dataframe thead th {\n",
       "        text-align: right;\n",
       "    }\n",
       "</style>\n",
       "<table border=\"1\" class=\"dataframe\">\n",
       "  <thead>\n",
       "    <tr style=\"text-align: right;\">\n",
       "      <th></th>\n",
       "      <th>viewed</th>\n",
       "      <th>completed</th>\n",
       "      <th>transactions</th>\n",
       "      <th>money_spent</th>\n",
       "    </tr>\n",
       "    <tr>\n",
       "      <th>person</th>\n",
       "      <th></th>\n",
       "      <th></th>\n",
       "      <th></th>\n",
       "      <th></th>\n",
       "    </tr>\n",
       "  </thead>\n",
       "  <tbody>\n",
       "    <tr>\n",
       "      <th>0009655768c64bdeb2e877511632db8f</th>\n",
       "      <td>4</td>\n",
       "      <td>3</td>\n",
       "      <td>8</td>\n",
       "      <td>127.60</td>\n",
       "    </tr>\n",
       "    <tr>\n",
       "      <th>0011e0d4e6b944f998e987f904e8c1e5</th>\n",
       "      <td>5</td>\n",
       "      <td>3</td>\n",
       "      <td>5</td>\n",
       "      <td>79.46</td>\n",
       "    </tr>\n",
       "    <tr>\n",
       "      <th>0020c2b971eb4e9188eac86d93036a77</th>\n",
       "      <td>3</td>\n",
       "      <td>3</td>\n",
       "      <td>8</td>\n",
       "      <td>196.86</td>\n",
       "    </tr>\n",
       "    <tr>\n",
       "      <th>0020ccbbb6d84e358d3414a3ff76cffd</th>\n",
       "      <td>4</td>\n",
       "      <td>3</td>\n",
       "      <td>12</td>\n",
       "      <td>154.05</td>\n",
       "    </tr>\n",
       "    <tr>\n",
       "      <th>003d66b6608740288d6cc97a6903f4f0</th>\n",
       "      <td>4</td>\n",
       "      <td>3</td>\n",
       "      <td>18</td>\n",
       "      <td>48.34</td>\n",
       "    </tr>\n",
       "  </tbody>\n",
       "</table>\n",
       "</div>"
      ],
      "text/plain": [
       "                                  viewed  completed  transactions  money_spent\n",
       "person                                                                        \n",
       "0009655768c64bdeb2e877511632db8f       4          3             8       127.60\n",
       "0011e0d4e6b944f998e987f904e8c1e5       5          3             5        79.46\n",
       "0020c2b971eb4e9188eac86d93036a77       3          3             8       196.86\n",
       "0020ccbbb6d84e358d3414a3ff76cffd       4          3            12       154.05\n",
       "003d66b6608740288d6cc97a6903f4f0       4          3            18        48.34"
      ]
     },
     "execution_count": 23,
     "metadata": {},
     "output_type": "execute_result"
    }
   ],
   "source": [
    "clean_customers = filtered_customers.drop('received', axis = 1)\n",
    "clean_customers.head(5)"
   ]
  },
  {
   "cell_type": "markdown",
   "metadata": {},
   "source": [
    "#### Scaling"
   ]
  },
  {
   "cell_type": "code",
   "execution_count": 24,
   "metadata": {},
   "outputs": [],
   "source": [
    "sc = StandardScaler().fit(clean_customers)\n",
    "scaled = sc.transform(clean_customers)\n",
    "scaled_features = pd.DataFrame(data = scaled, \n",
    "                               columns = clean_customers.columns.values)"
   ]
  },
  {
   "cell_type": "markdown",
   "metadata": {},
   "source": [
    "****\n",
    "## Clustering \n",
    "Yay! Finally to the machine learning. First, we're going to find the ideal number of clusters. "
   ]
  },
  {
   "cell_type": "code",
   "execution_count": 27,
   "metadata": {},
   "outputs": [],
   "source": [
    "df_feature = scaled_features\n",
    "wcss = []\n",
    "sil_score = []\n",
    "max_clusters = 10\n",
    "\n",
    "for k in range(1, max_clusters):\n",
    "    kmeans = KMeans(n_clusters = k, random_state = 10)\n",
    "    kmeans.fit(df_feature)\n",
    "    \n",
    "    # calculate wcss for the Elbow Method\n",
    "    wcss.append(kmeans.inertia_)\n",
    "    \n",
    "    # calculate the mean Silhouette coefficient\n",
    "    if k >= 2:\n",
    "        labels = kmeans.labels_\n",
    "        sil_score.append(metrics.silhouette_score(df_feature, labels))\n",
    "# converting the results into a dataframe and plotting them"
   ]
  },
  {
   "cell_type": "code",
   "execution_count": 38,
   "metadata": {},
   "outputs": [
    {
     "data": {
      "image/png": "[encoded data removed]",
      "text/plain": [
       "<Figure size 720x360 with 1 Axes>"
      ]
     },
     "metadata": {},
     "output_type": "display_data"
    }
   ],
   "source": [
    "fig, ax = plt.subplots(figsize=(10,5))\n",
    "# Elbow \n",
    "ax.plot(np.arange(1, max_clusters), wcss, marker = 'o', lw = 2)\n",
    "ax.set_xlabel('Number of Clusters')\n",
    "ax.set_ylabel('WCSS')\n",
    "ax.set_title('The Elbow Method')\n",
    "plt.tight_layout()\n",
    "plt.show()\n"
   ]
  },
  {
   "cell_type": "code",
   "execution_count": 36,
   "metadata": {},
   "outputs": [
    {
     "data": {
      "image/png": "[encoded data removed]",
      "text/plain": [
       "<Figure size 720x360 with 1 Axes>"
      ]
     },
     "metadata": {},
     "output_type": "display_data"
    }
   ],
   "source": [
    "fig, ax = plt.subplots(figsize=(10,5))\n",
    "ax.plot(np.arange(2, max_clusters), sil_score, marker = 'o' , lw = 2)\n",
    "ax.set_xlabel('Number of Clusters')\n",
    "ax.set_ylabel('Mean Silhouette Coefficient')\n",
    "ax.set_title('The Silhouette Method')\n",
    "plt.tight_layout()\n",
    "plt.show()"
   ]
  },
  {
   "cell_type": "markdown",
   "metadata": {},
   "source": [
    "5 appears to be the ideal number of clusters (k)"
   ]
  },
  {
   "cell_type": "markdown",
   "metadata": {},
   "source": [
    "**Now KMeans clustering can be done!**"
   ]
  },
  {
   "cell_type": "code",
   "execution_count": 40,
   "metadata": {},
   "outputs": [
    {
     "name": "stdout",
     "output_type": "stream",
     "text": [
      "cluster\n",
      "0    1574\n",
      "1    3337\n",
      "2    4000\n",
      "3    2921\n",
      "4    2622\n",
      "dtype: int64\n"
     ]
    }
   ],
   "source": [
    "k = 5\n",
    "df_feature = scaled\n",
    "\n",
    "kmeans = KMeans(n_clusters = k, random_state = 10)\n",
    "kmeans.fit_transform(df_feature)\n",
    "customer_with_clusters = clean_customers.assign(cluster = kmeans.labels_)\n",
    "print(customer_with_clusters.value_counts('cluster').sort_index())\n"
   ]
  },
  {
   "cell_type": "markdown",
   "metadata": {},
   "source": [
    "Above we can see how many customers belong to each cluster."
   ]
  },
  {
   "cell_type": "code",
   "execution_count": 41,
   "metadata": {},
   "outputs": [
    {
     "name": "stdout",
     "output_type": "stream",
     "text": [
      "Silhouette Score: 0.27614911424041494\n",
      "        viewed completed transactions money_spent\n",
      "          mean      mean         mean        mean\n",
      "cluster                                          \n",
      "0          3.5       2.0         17.1        71.1\n",
      "1          2.8       2.9          7.7       139.0\n",
      "2          2.1       0.7          5.0        34.3\n",
      "3          4.4       4.1         12.1       216.6\n",
      "4          4.5       1.4          4.5        49.6\n"
     ]
    }
   ],
   "source": [
    "\n",
    "print('Silhouette Score:', metrics.silhouette_score(df_feature, labels = kmeans.labels_))\n",
    "cluster_info = customer_with_clusters.groupby('cluster').agg([np.mean])\n",
    "print(cluster_info.round(1))"
   ]
  },
  {
   "cell_type": "markdown",
   "metadata": {},
   "source": [
    "And here we have the mean of each customer behavior by cluster grouping"
   ]
  },
  {
   "cell_type": "code",
   "execution_count": null,
   "metadata": {},
   "outputs": [],
   "source": []
  }
 ],
 "metadata": {
  "kernelspec": {
   "display_name": "Python 3.8.8 ('base')",
   "language": "python",
   "name": "python3"
  },
  "language_info": {
   "codemirror_mode": {
    "name": "ipython",
    "version": 3
   },
   "file_extension": ".py",
   "mimetype": "text/x-python",
   "name": "python",
   "nbconvert_exporter": "python",
   "pygments_lexer": "ipython3",
   "version": "3.8.8"
  },
  "orig_nbformat": 4,
  "vscode": {
   "interpreter": {
    "hash": "40d3a090f54c6569ab1632332b64b2c03c39dcf918b08424e98f38b5ae0af88f"
   }
  }
 },
 "nbformat": 4,
 "nbformat_minor": 2
}
